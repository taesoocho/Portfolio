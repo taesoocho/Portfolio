{
 "cells": [
  {
   "cell_type": "code",
   "execution_count": null,
   "metadata": {},
   "outputs": [],
   "source": [
    "import pymysql\n",
    "import pandas as pd"
   ]
  },
  {
   "cell_type": "code",
   "execution_count": null,
   "metadata": {},
   "outputs": [],
   "source": [
    "conn = pymysql.connect(host = \"localhost\", user = \"root\", password = \"1234\", db = 'inflearn' , charset = \"utf8\")\n",
    "\n",
    "sql = \"\"\"\n",
    "SELECT *\n",
    "FROM m1_course\n",
    "INNER JOIN m3_course ON m1_course.course_title = m3_course.course_title;\n",
    "\"\"\"\n",
    "\n",
    "data =pd.read_sql(sql, conn)\n",
    "conn.commit()\n",
    "conn.close() "
   ]
  },
  {
   "cell_type": "code",
   "execution_count": null,
   "metadata": {},
   "outputs": [],
   "source": [
    "course_m1 = data.iloc[:,:18]\n",
    "course_m3 = data.iloc[:,18:]\n",
    "\n",
    "course_m1 = course_m1.add_suffix('_m1')\n",
    "course_m3 = course_m3.add_suffix('_m3')"
   ]
  },
  {
   "cell_type": "code",
   "execution_count": null,
   "metadata": {},
   "outputs": [],
   "source": [
    "course_df = pd.concat([course_m1, course_m3], axis = 1)\n",
    "course_df = course_df.drop(['main_category_m3', 'sub_category_m3', 'course_title_m3', 'instructor_m3', 'related_tags_m3', 'limit_time_m3', 'certificates_m3', 'course_level_m3', 'course_section_m3', 'course_time_index_m3', 'course_time_min_m3'], axis = 1)"
   ]
  },
  {
   "cell_type": "code",
   "execution_count": null,
   "metadata": {},
   "outputs": [],
   "source": [
    "course_df = course_df[['main_category_m1', 'sub_category_m1', 'course_title_m1', 'related_tags_m1', \\\n",
    "    'instructor_m1', 'certificates_m1', 'course_level_m1', 'limit_time_m1', 'course_time_index_m1', \\\n",
    "    'course_time_min_m1', 'course_section_m1', 'review_score_m1', 'review_score_m3', 'review_cnt_m1', \\\n",
    "    'review_cnt_m3', 'student_cnt_m1', 'student_cnt_m3', 'price_m1' ,'price_m3', \\\n",
    "    'discount_rate_m1', 'discount_rate_m3', 'sale_price_m1', 'sale_price_m3', \\\n",
    "    'scraping_date_m1', 'scraping_date_m3']]\n",
    "\n",
    "course_df.columns = ['main_category', 'sub_category', 'course_title', 'related_tags', \\\n",
    "    'instructor', 'certificates', 'course_level', 'limit_time', 'course_time_index', \\\n",
    "    'course_time_min', 'course_section', 'review_score_m1', 'review_score_m3', 'review_cnt_m1', \\\n",
    "    'review_cnt_m3', 'student_cnt_m1', 'student_cnt_m3', 'price_m1' ,'price_m3', \\\n",
    "    'discount_rate_m1', 'discount_rate_m3', 'sale_price_m1', 'sale_price_m3', \\\n",
    "    'scraping_date_m1', 'scraping_date_m3']"
   ]
  },
  {
   "cell_type": "code",
   "execution_count": null,
   "metadata": {},
   "outputs": [],
   "source": [
    "course_df['student_dfrnc'] = course_df['student_cnt_m3'] - course_df['student_cnt_m1']\n",
    "course_df = course_df.sort_values(['student_dfrnc'], ascending = False)"
   ]
  },
  {
   "cell_type": "code",
   "execution_count": null,
   "metadata": {},
   "outputs": [],
   "source": [
    "course_df.to_csv('integrated_course.csv', encoding = 'utf-8-sig')"
   ]
  }
 ],
 "metadata": {
  "language_info": {
   "name": "python"
  },
  "orig_nbformat": 4
 },
 "nbformat": 4,
 "nbformat_minor": 2
}
