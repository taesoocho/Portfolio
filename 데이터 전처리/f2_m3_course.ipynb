{
 "cells": [
  {
   "cell_type": "code",
   "execution_count": 29,
   "metadata": {},
   "outputs": [],
   "source": [
    "import pandas as pd\n",
    "import math\n",
    "import numpy as np\n",
    "import re\n",
    "from datetime import datetime\n",
    "from dateutil.relativedelta import relativedelta\n",
    "\n",
    "pd.set_option('display.width', 1000)"
   ]
  },
  {
   "cell_type": "code",
   "execution_count": 30,
   "metadata": {},
   "outputs": [],
   "source": [
    "course_df = pd.read_csv('o1_course_m3.csv', index_col = 0)"
   ]
  },
  {
   "cell_type": "code",
   "execution_count": 31,
   "metadata": {},
   "outputs": [
    {
     "name": "stdout",
     "output_type": "stream",
     "text": [
      "<class 'pandas.core.frame.DataFrame'>\n",
      "Int64Index: 1795 entries, 0 to 1794\n",
      "Data columns (total 15 columns):\n",
      " #   Column         Non-Null Count  Dtype \n",
      "---  ------         --------------  ----- \n",
      " 0   main_category  1795 non-null   object\n",
      " 1   sub_category   1795 non-null   object\n",
      " 2   course_title   1795 non-null   object\n",
      " 3   review_score   1384 non-null   object\n",
      " 4   review_cnt     1795 non-null   object\n",
      " 5   student_cnt    1795 non-null   object\n",
      " 6   instructor     1795 non-null   object\n",
      " 7   related_tags   1795 non-null   object\n",
      " 8   price          1795 non-null   object\n",
      " 9   discount_rate  1795 non-null   object\n",
      " 10  sale_price     1795 non-null   object\n",
      " 11  course_info    1795 non-null   object\n",
      " 12  limit_time     1795 non-null   object\n",
      " 13  certificates   1795 non-null   object\n",
      " 14  level          1795 non-null   object\n",
      "dtypes: object(15)\n",
      "memory usage: 224.4+ KB\n"
     ]
    }
   ],
   "source": [
    "course_df.info()"
   ]
  },
  {
   "cell_type": "code",
   "execution_count": 32,
   "metadata": {},
   "outputs": [],
   "source": [
    "course_df['review_score'] = course_df['review_score'].str.replace(r'\\D+', '', regex = True).astype(float) * 0.1\n",
    "course_df['review_score'] = course_df['review_score'].fillna('None')\n",
    "course_df['review_cnt'] = course_df['review_cnt'].str.replace('개의 수강평', '')\n",
    "course_df['student_cnt'] = course_df['student_cnt'].str.replace('명', '')\n",
    "course_df['instructor'] = course_df['instructor'].str.strip()\n",
    "\n",
    "course_df['price'] = course_df['price'].str.replace('원', '')\n",
    "course_df['price'] = course_df['price'].str.replace(',', '')\n",
    "course_df['price'] = course_df['price'].str.replace('무료', '0').astype(int)\n",
    "course_df['discount_rate'] = course_df['discount_rate'].str.replace('%', '').astype(int)\n",
    "course_df['sale_price'] = course_df['sale_price'].str.replace('원', '')\n",
    "course_df['sale_price'] = course_df['sale_price'].str.replace(',', '')\n",
    "course_df['sale_price'] = course_df['sale_price'].str.replace('무료', '0').astype(int)\n",
    "\n",
    "course_df['course_info'] = course_df['course_info'].str.replace('\\n', '')\n",
    "course_df['course_section'] = course_df['course_info'].str[2:4]\n",
    "course_df['course_section'] = course_df['course_section'].str.replace(r'\\D+', '', regex = True)\n",
    "course_df['course_time_index'] = course_df['course_info'].str.split('수업 ').str[1]\n",
    "course_df['course_time_index'] = course_df['course_time_index'].str.replace('(', '', regex=True)\n",
    "course_df['course_time_index'] = course_df['course_time_index'].str.replace(')', '', regex=True)\n",
    "course_df['course_time_index'] = course_df['course_time_index'].str.strip()\n",
    "\n",
    "course_df['limit_time'] = course_df['limit_time'].str.replace('\\n', '')\n",
    "course_df['limit_time'] = course_df['limit_time'].str.replace('수강기한: ', '')\n",
    "course_df['limit_time'] = course_df['limit_time'].str.strip()\n",
    "\n",
    "course_df['certificates'] = course_df['certificates'].str.replace('\\n', '')\n",
    "course_df['certificates'] = course_df['certificates'].str.replace('수료증 ', '')\n",
    "course_df['certificates'] = course_df['certificates'].str.replace(' 강의', '')\n",
    "course_df['certificates'] = course_df['certificates'].str.strip()\n",
    "\n",
    "course_df['level'] = course_df['level'].str.replace(' 대상', '')"
   ]
  },
  {
   "cell_type": "code",
   "execution_count": 33,
   "metadata": {},
   "outputs": [
    {
     "name": "stdout",
     "output_type": "stream",
     "text": [
      "<class 'pandas.core.frame.DataFrame'>\n",
      "Int64Index: 1795 entries, 0 to 1794\n",
      "Data columns (total 17 columns):\n",
      " #   Column             Non-Null Count  Dtype \n",
      "---  ------             --------------  ----- \n",
      " 0   main_category      1795 non-null   object\n",
      " 1   sub_category       1795 non-null   object\n",
      " 2   course_title       1795 non-null   object\n",
      " 3   review_score       1795 non-null   object\n",
      " 4   review_cnt         1795 non-null   object\n",
      " 5   student_cnt        1795 non-null   object\n",
      " 6   instructor         1795 non-null   object\n",
      " 7   related_tags       1795 non-null   object\n",
      " 8   price              1795 non-null   int32 \n",
      " 9   discount_rate      1795 non-null   int32 \n",
      " 10  sale_price         1795 non-null   int32 \n",
      " 11  course_info        1795 non-null   object\n",
      " 12  limit_time         1795 non-null   object\n",
      " 13  certificates       1795 non-null   object\n",
      " 14  level              1795 non-null   object\n",
      " 15  course_section     1795 non-null   object\n",
      " 16  course_time_index  1795 non-null   object\n",
      "dtypes: int32(3), object(14)\n",
      "memory usage: 231.4+ KB\n"
     ]
    }
   ],
   "source": [
    "course_df.info()"
   ]
  },
  {
   "cell_type": "code",
   "execution_count": 34,
   "metadata": {},
   "outputs": [],
   "source": [
    "hour_values = []\n",
    "min_values = []\n",
    "coures_time_min = []\n",
    "\n",
    "i = 0\n",
    "\n",
    "for values in course_df['course_time_index'].values :\n",
    "    if values :\n",
    "        if ('시간' in values) and ('분' in values) :\n",
    "            hour_values.append(values.split('시간 ')[0].strip())\n",
    "            min_values.append(values.split('시간 ')[1].replace('분', '').strip())\n",
    "        elif '시간' in values :\n",
    "            hour_values.append(values.split('시간')[0].strip())\n",
    "            min_values.append(0)\n",
    "        elif '분' in values :\n",
    "            hour_values.append(0)\n",
    "            min_values.append(values.split('분')[0].strip())\n",
    "        else :\n",
    "            i += 1\n",
    "            print(i)\n",
    "            print(\"다른 구조가 있습니다.\")\n",
    "    else :\n",
    "        hour_values.append(0)\n",
    "        min_values.append(0)\n",
    "\n",
    "for hour, min in zip(hour_values, min_values) :\n",
    "    coures_time_min.append((int(hour) * 60) + int(min))\n",
    "\n",
    "course_df['course_time_min'] = coures_time_min"
   ]
  },
  {
   "cell_type": "code",
   "execution_count": 35,
   "metadata": {},
   "outputs": [],
   "source": [
    "course_df = course_df.drop(['course_info'], axis = 1)"
   ]
  },
  {
   "cell_type": "code",
   "execution_count": 36,
   "metadata": {},
   "outputs": [],
   "source": [
    "# course_df['scraping_date'] = pd.to_datetime(datetime.today().strftime('%Y.%m.%d'))\n",
    "course_df['scraping_date'] = pd.to_datetime('2022.03.31')"
   ]
  },
  {
   "cell_type": "code",
   "execution_count": 37,
   "metadata": {},
   "outputs": [
    {
     "name": "stdout",
     "output_type": "stream",
     "text": [
      "<class 'pandas.core.frame.DataFrame'>\n",
      "Int64Index: 1795 entries, 0 to 1794\n",
      "Data columns (total 18 columns):\n",
      " #   Column             Non-Null Count  Dtype         \n",
      "---  ------             --------------  -----         \n",
      " 0   main_category      1795 non-null   object        \n",
      " 1   sub_category       1795 non-null   object        \n",
      " 2   course_title       1795 non-null   object        \n",
      " 3   review_score       1795 non-null   object        \n",
      " 4   review_cnt         1795 non-null   object        \n",
      " 5   student_cnt        1795 non-null   object        \n",
      " 6   instructor         1795 non-null   object        \n",
      " 7   related_tags       1795 non-null   object        \n",
      " 8   price              1795 non-null   int32         \n",
      " 9   discount_rate      1795 non-null   int32         \n",
      " 10  sale_price         1795 non-null   int32         \n",
      " 11  limit_time         1795 non-null   object        \n",
      " 12  certificates       1795 non-null   object        \n",
      " 13  level              1795 non-null   object        \n",
      " 14  course_section     1795 non-null   object        \n",
      " 15  course_time_index  1795 non-null   object        \n",
      " 16  course_time_min    1795 non-null   int64         \n",
      " 17  scraping_date      1795 non-null   datetime64[ns]\n",
      "dtypes: datetime64[ns](1), int32(3), int64(1), object(13)\n",
      "memory usage: 245.4+ KB\n"
     ]
    }
   ],
   "source": [
    "course_df.info()"
   ]
  },
  {
   "cell_type": "code",
   "execution_count": 38,
   "metadata": {},
   "outputs": [
    {
     "data": {
      "text/plain": [
       "''"
      ]
     },
     "execution_count": 38,
     "metadata": {},
     "output_type": "execute_result"
    }
   ],
   "source": [
    "course_df.loc[52, 'course_time_index']"
   ]
  },
  {
   "cell_type": "code",
   "execution_count": 39,
   "metadata": {},
   "outputs": [],
   "source": [
    "course_df.to_csv('o2_course_m3.csv', encoding = 'utf-8-sig')"
   ]
  },
  {
   "cell_type": "markdown",
   "metadata": {},
   "source": [
    "1. DB 만들고 연동\n",
    "2. 1월 데이터 스크래핑 날짜 변수 추가해서 넣기\n",
    "3. 3월 데이터 넣기\n",
    "4. 1과 3월 둘 다 있는 데이터 뽑아서 분석\n",
    "5. 3월 신규 강의 데이터 분석\n",
    "6. 3월 EDA\n",
    "7. 1월 인사이트에서 보완된 점 혹은 보완해야될 점\n",
    "8. 대규모 할인 이벤트가 없었을 때 인사이트\n",
    "9. 태블로 대쉬보드 제작"
   ]
  }
 ],
 "metadata": {
  "interpreter": {
   "hash": "73407dee87cc73a13fe6a424f5d316f883ddf267c66cfaad22110334c7428349"
  },
  "kernelspec": {
   "display_name": "Python 3.8.12 ('dev_project')",
   "language": "python",
   "name": "python3"
  },
  "language_info": {
   "codemirror_mode": {
    "name": "ipython",
    "version": 3
   },
   "file_extension": ".py",
   "mimetype": "text/x-python",
   "name": "python",
   "nbconvert_exporter": "python",
   "pygments_lexer": "ipython3",
   "version": "3.8.12"
  },
  "orig_nbformat": 4
 },
 "nbformat": 4,
 "nbformat_minor": 2
}
