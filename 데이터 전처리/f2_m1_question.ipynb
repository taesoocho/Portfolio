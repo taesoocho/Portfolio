{
 "cells": [
  {
   "cell_type": "markdown",
   "metadata": {},
   "source": [
    "# 질문 게시판 데이터 전처리"
   ]
  },
  {
   "cell_type": "code",
   "execution_count": 1,
   "metadata": {},
   "outputs": [],
   "source": [
    "import pandas as pd"
   ]
  },
  {
   "cell_type": "code",
   "execution_count": 2,
   "metadata": {},
   "outputs": [],
   "source": [
    "question_df = pd.read_csv('o1_question.csv', index_col = 0)"
   ]
  },
  {
   "cell_type": "markdown",
   "metadata": {},
   "source": [
    "'a_content'의 불필요한 문자를 제거하였습니다."
   ]
  },
  {
   "cell_type": "code",
   "execution_count": 3,
   "metadata": {},
   "outputs": [],
   "source": [
    "question_df['a_content'] = question_df['a_content'].str.replace('\\n', ' ')\n",
    "question_df['a_content'] = question_df['a_content'].str[:-5]\n",
    "question_df['a_content'] = question_df['a_content'].str.strip()"
   ]
  },
  {
   "cell_type": "code",
   "execution_count": 4,
   "metadata": {},
   "outputs": [
    {
     "name": "stdout",
     "output_type": "stream",
     "text": [
      "<class 'pandas.core.frame.DataFrame'>\n",
      "Int64Index: 54357 entries, 0 to 54356\n",
      "Data columns (total 9 columns):\n",
      " #   Column        Non-Null Count  Dtype \n",
      "---  ------        --------------  ----- \n",
      " 0   title         54356 non-null  object\n",
      " 1   questioner    54357 non-null  object\n",
      " 2   q_date        54357 non-null  object\n",
      " 3   q_content     53919 non-null  object\n",
      " 4   course_title  54357 non-null  object\n",
      " 5   section       54357 non-null  object\n",
      " 6   answer        54357 non-null  object\n",
      " 7   a_date        54357 non-null  object\n",
      " 8   a_content     54357 non-null  object\n",
      "dtypes: object(9)\n",
      "memory usage: 4.1+ MB\n"
     ]
    }
   ],
   "source": [
    "question_df.info()"
   ]
  },
  {
   "cell_type": "code",
   "execution_count": 5,
   "metadata": {},
   "outputs": [
    {
     "data": {
      "text/html": [
       "<div>\n",
       "<style scoped>\n",
       "    .dataframe tbody tr th:only-of-type {\n",
       "        vertical-align: middle;\n",
       "    }\n",
       "\n",
       "    .dataframe tbody tr th {\n",
       "        vertical-align: top;\n",
       "    }\n",
       "\n",
       "    .dataframe thead th {\n",
       "        text-align: right;\n",
       "    }\n",
       "</style>\n",
       "<table border=\"1\" class=\"dataframe\">\n",
       "  <thead>\n",
       "    <tr style=\"text-align: right;\">\n",
       "      <th></th>\n",
       "      <th>title</th>\n",
       "      <th>questioner</th>\n",
       "      <th>q_date</th>\n",
       "      <th>q_content</th>\n",
       "      <th>course_title</th>\n",
       "      <th>section</th>\n",
       "      <th>answer</th>\n",
       "      <th>a_date</th>\n",
       "      <th>a_content</th>\n",
       "    </tr>\n",
       "  </thead>\n",
       "  <tbody>\n",
       "    <tr>\n",
       "      <th>count</th>\n",
       "      <td>54356</td>\n",
       "      <td>54357</td>\n",
       "      <td>54357</td>\n",
       "      <td>53919</td>\n",
       "      <td>54357</td>\n",
       "      <td>54357</td>\n",
       "      <td>54357</td>\n",
       "      <td>54357</td>\n",
       "      <td>54357</td>\n",
       "    </tr>\n",
       "    <tr>\n",
       "      <th>unique</th>\n",
       "      <td>50964</td>\n",
       "      <td>16719</td>\n",
       "      <td>1643</td>\n",
       "      <td>53380</td>\n",
       "      <td>1347</td>\n",
       "      <td>13517</td>\n",
       "      <td>14527</td>\n",
       "      <td>8734</td>\n",
       "      <td>32738</td>\n",
       "    </tr>\n",
       "    <tr>\n",
       "      <th>top</th>\n",
       "      <td>질문있습니다.</td>\n",
       "      <td>휴식중인 불가사리</td>\n",
       "      <td>2021.07.20</td>\n",
       "      <td>- 학습 관련 질문을 남겨주세요. 상세히 작성하면 더 좋아요! - 먼저 유사한 질문...</td>\n",
       "      <td>[리뉴얼] React로 NodeBird SNS 만들기</td>\n",
       "      <td>None</td>\n",
       "      <td>None</td>\n",
       "      <td>None</td>\n",
       "      <td></td>\n",
       "    </tr>\n",
       "    <tr>\n",
       "      <th>freq</th>\n",
       "      <td>172</td>\n",
       "      <td>1703</td>\n",
       "      <td>130</td>\n",
       "      <td>110</td>\n",
       "      <td>1549</td>\n",
       "      <td>14852</td>\n",
       "      <td>4741</td>\n",
       "      <td>4741</td>\n",
       "      <td>20987</td>\n",
       "    </tr>\n",
       "  </tbody>\n",
       "</table>\n",
       "</div>"
      ],
      "text/plain": [
       "          title questioner      q_date  \\\n",
       "count     54356      54357       54357   \n",
       "unique    50964      16719        1643   \n",
       "top     질문있습니다.  휴식중인 불가사리  2021.07.20   \n",
       "freq        172       1703         130   \n",
       "\n",
       "                                                q_content  \\\n",
       "count                                               53919   \n",
       "unique                                              53380   \n",
       "top     - 학습 관련 질문을 남겨주세요. 상세히 작성하면 더 좋아요! - 먼저 유사한 질문...   \n",
       "freq                                                  110   \n",
       "\n",
       "                         course_title section answer a_date a_content  \n",
       "count                           54357   54357  54357  54357     54357  \n",
       "unique                           1347   13517  14527   8734     32738  \n",
       "top     [리뉴얼] React로 NodeBird SNS 만들기    None   None   None            \n",
       "freq                             1549   14852   4741   4741     20987  "
      ]
     },
     "execution_count": 5,
     "metadata": {},
     "output_type": "execute_result"
    }
   ],
   "source": [
    "question_df.describe(include='all')"
   ]
  },
  {
   "cell_type": "code",
   "execution_count": 6,
   "metadata": {},
   "outputs": [],
   "source": [
    "question_df.to_csv('o2_question.csv', encoding = 'utf-8-sig')"
   ]
  }
 ],
 "metadata": {
  "interpreter": {
   "hash": "73407dee87cc73a13fe6a424f5d316f883ddf267c66cfaad22110334c7428349"
  },
  "kernelspec": {
   "display_name": "Python 3.8.12 64-bit ('dev_project': conda)",
   "language": "python",
   "name": "python3"
  },
  "language_info": {
   "codemirror_mode": {
    "name": "ipython",
    "version": 3
   },
   "file_extension": ".py",
   "mimetype": "text/x-python",
   "name": "python",
   "nbconvert_exporter": "python",
   "pygments_lexer": "ipython3",
   "version": "3.8.12"
  },
  "orig_nbformat": 4
 },
 "nbformat": 4,
 "nbformat_minor": 2
}
