{
 "cells": [
  {
   "cell_type": "code",
   "execution_count": 22,
   "metadata": {},
   "outputs": [],
   "source": [
    "import pandas as pd\n",
    "import pymysql"
   ]
  },
  {
   "cell_type": "code",
   "execution_count": 23,
   "metadata": {},
   "outputs": [],
   "source": [
    "m1_course = pd.read_csv('m1_course.csv', index_col = 0)\n",
    "m3_course = pd.read_csv('m3_course.csv', index_col = 0)"
   ]
  },
  {
   "cell_type": "code",
   "execution_count": 24,
   "metadata": {},
   "outputs": [],
   "source": [
    "m3_course['course_time_index'] = m3_course['course_time_index'].fillna(0)"
   ]
  },
  {
   "cell_type": "code",
   "execution_count": 26,
   "metadata": {},
   "outputs": [],
   "source": [
    "m1_course['scraping_date'] = pd.to_datetime('2022.01.20')\n",
    "m3_course['scraping_date'] = pd.to_datetime(m3_course['scraping_date'])"
   ]
  },
  {
   "cell_type": "code",
   "execution_count": 29,
   "metadata": {},
   "outputs": [],
   "source": [
    "# connect\n",
    "conn = pymysql.connect(host = \"localhost\", user = \"root\", password = \"1234\", db = 'inflearn' , charset = \"utf8\")\n",
    "cursor = conn.cursor()\n",
    "\n",
    "for i, row in m1_course.iterrows():\n",
    "    sql = \"insert into m1_course values (%s, %s, %s, %s, %s, %s, %s, %s, %s, %s, %s, %s, %s, %s, %s, %s, %s, %s)\"\n",
    "    cursor.execute(sql, tuple(row))\n",
    "\n",
    "conn.commit()\n",
    "conn.close() "
   ]
  },
  {
   "cell_type": "code",
   "execution_count": 30,
   "metadata": {},
   "outputs": [],
   "source": [
    "# connect\n",
    "conn = pymysql.connect(host = \"localhost\", user = \"root\", password = \"1234\", db = 'inflearn' , charset = \"utf8\")\n",
    "cursor = conn.cursor()\n",
    "\n",
    "for i, row in m3_course.iterrows():\n",
    "    sql = \"insert into m3_course values (%s, %s, %s, %s, %s, %s, %s, %s, %s, %s, %s, %s, %s, %s, %s, %s, %s, %s)\"\n",
    "    cursor.execute(sql, tuple(row))\n",
    "\n",
    "conn.commit()\n",
    "conn.close() "
   ]
  }
 ],
 "metadata": {
  "interpreter": {
   "hash": "73407dee87cc73a13fe6a424f5d316f883ddf267c66cfaad22110334c7428349"
  },
  "kernelspec": {
   "display_name": "Python 3.8.12 ('dev_project')",
   "language": "python",
   "name": "python3"
  },
  "language_info": {
   "codemirror_mode": {
    "name": "ipython",
    "version": 3
   },
   "file_extension": ".py",
   "mimetype": "text/x-python",
   "name": "python",
   "nbconvert_exporter": "python",
   "pygments_lexer": "ipython3",
   "version": "3.8.12"
  },
  "orig_nbformat": 4
 },
 "nbformat": 4,
 "nbformat_minor": 2
}
