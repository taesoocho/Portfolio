{
 "cells": [
  {
   "cell_type": "code",
   "execution_count": 104,
   "metadata": {},
   "outputs": [],
   "source": [
    "import numpy as np\n",
    "import pandas as pd\n",
    "import matplotlib.pyplot as plt\n",
    "import matplotlib.font_manager as fm\n",
    "import seaborn as sns\n",
    "import warnings\n",
    "\n",
    "fontpath = 'C:/Users/TaeSoo/AppData/Local/Microsoft/Windows/Fonts/NanumGothic.ttf'\n",
    "%matplotlib inline\n",
    "warnings.filterwarnings(action='ignore')\n",
    "\n",
    "plt.rcParams['figure.dpi'] = 200\n",
    "plt.rcParams['font.family'] = 'NanumGothic'\n",
    "plt.rcParams['xtick.labelsize'] = 6\n",
    "plt.rc(\"axes\", unicode_minus = False)\n",
    "pd.options.display.float_format = '{:.5f}'.format\n",
    "\n",
    "from sklearn.preprocessing import LabelEncoder\n",
    "from scipy.special import inv_boxcox1p\n",
    "from sklearn.linear_model import Ridge, ElasticNet, Lasso\n",
    "from sklearn.ensemble import RandomForestRegressor,  GradientBoostingRegressor, VotingRegressor\n",
    "from sklearn.base import BaseEstimator, TransformerMixin, RegressorMixin, clone\n",
    "from sklearn.model_selection import KFold, cross_val_score, train_test_split, GridSearchCV\n",
    "from sklearn.metrics import mean_squared_error\n",
    "from sklearn.inspection import permutation_importance\n",
    "import xgboost as xgb"
   ]
  },
  {
   "cell_type": "code",
   "execution_count": 69,
   "metadata": {},
   "outputs": [],
   "source": [
    "course_df = pd.read_csv('m3_course.csv', index_col = 0)"
   ]
  },
  {
   "cell_type": "code",
   "execution_count": 70,
   "metadata": {},
   "outputs": [
    {
     "name": "stdout",
     "output_type": "stream",
     "text": [
      "<class 'pandas.core.frame.DataFrame'>\n",
      "Int64Index: 1795 entries, 0 to 1794\n",
      "Data columns (total 18 columns):\n",
      " #   Column             Non-Null Count  Dtype \n",
      "---  ------             --------------  ----- \n",
      " 0   main_category      1795 non-null   object\n",
      " 1   sub_category       1795 non-null   object\n",
      " 2   course_title       1795 non-null   object\n",
      " 3   review_score       1795 non-null   object\n",
      " 4   review_cnt         1795 non-null   int64 \n",
      " 5   student_cnt        1795 non-null   int64 \n",
      " 6   instructor         1795 non-null   object\n",
      " 7   related_tags       1795 non-null   object\n",
      " 8   price              1795 non-null   int64 \n",
      " 9   discount_rate      1795 non-null   int64 \n",
      " 10  sale_price         1795 non-null   int64 \n",
      " 11  limit_time         1795 non-null   object\n",
      " 12  certificates       1795 non-null   object\n",
      " 13  level              1795 non-null   object\n",
      " 14  course_section     1795 non-null   int64 \n",
      " 15  course_time_index  1678 non-null   object\n",
      " 16  course_time_min    1795 non-null   int64 \n",
      " 17  scraping_date      1795 non-null   object\n",
      "dtypes: int64(7), object(11)\n",
      "memory usage: 266.4+ KB\n"
     ]
    }
   ],
   "source": [
    "course_df.info()"
   ]
  },
  {
   "cell_type": "code",
   "execution_count": 71,
   "metadata": {},
   "outputs": [],
   "source": [
    "course_df['course_time_index'] = course_df['course_time_index'].fillna(0)"
   ]
  },
  {
   "cell_type": "code",
   "execution_count": 72,
   "metadata": {},
   "outputs": [],
   "source": [
    "na_rs_index = course_df[course_df['review_score'] == 'None'].index\n",
    "\n",
    "for index in na_rs_index :\n",
    "    course_df.loc[index, 'review_score'] = np.nan"
   ]
  },
  {
   "cell_type": "code",
   "execution_count": 74,
   "metadata": {},
   "outputs": [],
   "source": [
    "course_df['review_score'] = course_df['review_score'].astype('float')"
   ]
  },
  {
   "cell_type": "code",
   "execution_count": 75,
   "metadata": {},
   "outputs": [
    {
     "data": {
      "text/plain": [
       "0       (4.8, 4.9]\n",
       "1       (4.9, 5.0]\n",
       "2       (4.9, 5.0]\n",
       "3       (4.9, 5.0]\n",
       "4              NaN\n",
       "           ...    \n",
       "1790    (4.5, 4.6]\n",
       "1791    (4.0, 4.3]\n",
       "1792    (4.3, 4.4]\n",
       "1793    (4.9, 5.0]\n",
       "1794    (4.9, 5.0]\n",
       "Name: review_score, Length: 1795, dtype: category\n",
       "Categories (9, interval[float64, right]): [(1.2990000000000002, 4.0] < (4.0, 4.3] < (4.3, 4.4] < (4.4, 4.5] ... (4.6, 4.7] < (4.7, 4.8] < (4.8, 4.9] < (4.9, 5.0]]"
      ]
     },
     "execution_count": 75,
     "metadata": {},
     "output_type": "execute_result"
    }
   ],
   "source": [
    "course_df['review_score'] = pd.qcut(course_df['review_score'], 20, duplicates='drop')\n",
    "course_df['review_score']"
   ]
  },
  {
   "cell_type": "code",
   "execution_count": 76,
   "metadata": {},
   "outputs": [],
   "source": [
    "lbl = LabelEncoder() \n",
    "\n",
    "course_df['review_score'] = lbl.fit_transform(list(course_df['review_score'].values)) \n",
    "# limit_time (수강 기간 제한)은 카테고리형 변수이며 따로 처리할 필요가 없어 라벨 인코딩을 함께 진행함\n",
    "course_df['limit_time'] = lbl.fit_transform(list(course_df['limit_time'].values))"
   ]
  },
  {
   "cell_type": "code",
   "execution_count": 77,
   "metadata": {},
   "outputs": [],
   "source": [
    "course_df['review_score'] = course_df['review_score'].apply(lambda x : x + 1)\n",
    "course_df['review_score'] = course_df['review_score'].replace(10, 1)"
   ]
  },
  {
   "cell_type": "code",
   "execution_count": 78,
   "metadata": {},
   "outputs": [],
   "source": [
    "course_df['certificates'] = course_df['certificates'].apply(lambda x : 1 if x == '발급' else 0)\n",
    "course_df['level'] = course_df['level'].apply(lambda x : 1 if x == '입문' else 2 if x == '초급' else 3)"
   ]
  },
  {
   "cell_type": "code",
   "execution_count": 79,
   "metadata": {},
   "outputs": [],
   "source": [
    "course_df['related_tags'] = course_df['related_tags'].str.replace('[', '', regex = True)\n",
    "course_df['related_tags'] = course_df['related_tags'].str.replace(\"'\", '', regex = True)\n",
    "course_df['related_tags'] = course_df['related_tags'].str.replace(']', '', regex = True)\n",
    "course_df['related_tags'] = course_df['related_tags'].str.replace('출간,', '출간')"
   ]
  },
  {
   "cell_type": "code",
   "execution_count": 80,
   "metadata": {},
   "outputs": [],
   "source": [
    "tag_list = []\n",
    "\n",
    "for index in range(len(course_df)) :\n",
    "    for element in range(len(course_df['related_tags'].str.split(',')[index])) :\n",
    "        if course_df['related_tags'].str.split(', ')[index][element] not in tag_list :\n",
    "            tag_list.append(course_df['related_tags'].str.split(', ')[index][element])"
   ]
  },
  {
   "cell_type": "code",
   "execution_count": 81,
   "metadata": {},
   "outputs": [],
   "source": [
    "for tag in tag_list :\n",
    "    course_df[tag] = 0"
   ]
  },
  {
   "cell_type": "code",
   "execution_count": 82,
   "metadata": {},
   "outputs": [],
   "source": [
    "for index in range(len(course_df)) :\n",
    "    for element in range(len(course_df['related_tags'].str.split(',')[index])) :\n",
    "        for tag in tag_list :\n",
    "            if course_df['related_tags'].str.split(', ')[index][element] == tag :\n",
    "                course_df[tag][index] += 1"
   ]
  },
  {
   "cell_type": "code",
   "execution_count": 84,
   "metadata": {},
   "outputs": [],
   "source": [
    "course_df.to_csv('o5_course.csv', encoding = 'utf-8-sig')"
   ]
  },
  {
   "cell_type": "code",
   "execution_count": 83,
   "metadata": {},
   "outputs": [],
   "source": [
    "course_df.drop(columns = 'course_title', inplace = True)\n",
    "course_df.drop(columns = 'related_tags', inplace = True)\n",
    "course_df.drop(columns = 'course_time_index', inplace = True)\n",
    "course_df.drop(columns = 'scraping_date', inplace = True)"
   ]
  },
  {
   "cell_type": "code",
   "execution_count": 97,
   "metadata": {},
   "outputs": [],
   "source": [
    "course_df = pd.read_csv('o5_course.csv', index_col = 0)\n",
    "\n",
    "from scipy.special import boxcox1p, inv_boxcox1p\n",
    "\n",
    "course_df['review_cnt'] = boxcox1p(course_df['review_cnt'], 0.005)\n",
    "course_df['student_cnt'] = boxcox1p(course_df['student_cnt'], 0.001)\n",
    "course_df['price'] = boxcox1p(course_df['price'], 0.4)\n",
    "course_df['sale_price'] = boxcox1p(course_df['sale_price'], 0.4)\n",
    "course_df['course_time_min'] = boxcox1p(course_df['course_time_min'], 0.35)"
   ]
  },
  {
   "cell_type": "code",
   "execution_count": 101,
   "metadata": {},
   "outputs": [],
   "source": [
    "one_hot_features = ['main_category', 'sub_category', 'instructor']\n",
    "\n",
    "course_df = pd.get_dummies(course_df, columns = one_hot_features)"
   ]
  },
  {
   "cell_type": "code",
   "execution_count": 102,
   "metadata": {},
   "outputs": [],
   "source": [
    "data = course_df.drop(columns = 'student_cnt')\n",
    "target = course_df['student_cnt']\n",
    "\n",
    "random_state = 14\n",
    "kfold = KFold(n_splits = 5,  shuffle = True).get_n_splits(data.values)"
   ]
  },
  {
   "cell_type": "code",
   "execution_count": 105,
   "metadata": {},
   "outputs": [
    {
     "name": "stdout",
     "output_type": "stream",
     "text": [
      "      Algorithm  cv_means  cv_std\n",
      "0         Ridge   1.26517 0.20109\n",
      "1         Lasso   2.44333 0.55441\n",
      "2    ElasticNet   2.44333 0.55441\n",
      "3  RandomForest   0.67119 0.01546\n",
      "4            Gb   0.69337 0.03997\n",
      "5           Xgb   0.71860 0.08615\n"
     ]
    },
    {
     "data": {
      "text/plain": [
       "Text(0.5, 0, 'RMSE')"
      ]
     },
     "execution_count": 105,
     "metadata": {},
     "output_type": "execute_result"
    },
    {
     "data": {
      "image/png": "[encoded data removed]",
      "text/plain": [
       "<Figure size 1200x800 with 1 Axes>"
      ]
     },
     "metadata": {
      "needs_background": "light"
     },
     "output_type": "display_data"
    }
   ],
   "source": [
    "regressifiers = []\n",
    "regressifiers.append(Ridge(normalize = True, random_state = random_state)) \n",
    "regressifiers.append(Lasso(normalize = True, random_state = random_state)) \n",
    "regressifiers.append(ElasticNet(normalize = True, random_state = random_state)) \n",
    "regressifiers.append(RandomForestRegressor(random_state = random_state)) \n",
    "regressifiers.append(GradientBoostingRegressor(random_state = random_state)) \n",
    "regressifiers.append(xgb.XGBRegressor(random_state = random_state)) \n",
    "\n",
    "cv_results = []\n",
    "for regressifier in regressifiers :\n",
    "    cv_results.append(np.sqrt(-cross_val_score(regressifier, data.values, np.ravel(target), scoring = 'neg_mean_squared_error', cv = kfold)))\n",
    "\n",
    "cv_means = []\n",
    "cv_std = []\n",
    "for cv_result in cv_results :\n",
    "    cv_means.append(cv_result.mean())\n",
    "    cv_std.append(cv_result.std())\n",
    "    \n",
    "cv_res = pd.DataFrame({'Algorithm' : ['Ridge', 'Lasso', 'ElasticNet', 'RandomForest', 'Gb', 'Xgb'],\n",
    "                        'cv_means' : cv_means,\n",
    "                        'cv_std' : cv_std})\n",
    "\n",
    "print(cv_res)\n",
    "g = sns.barplot('cv_means', 'Algorithm', data = cv_res, palette = 'Set2', orient = \"h\",**{'xerr':cv_std})\n",
    "plt.xlabel('RMSE')"
   ]
  },
  {
   "cell_type": "code",
   "execution_count": 106,
   "metadata": {},
   "outputs": [
    {
     "name": "stdout",
     "output_type": "stream",
     "text": [
      "Fitting 5 folds for each of 5 candidates, totalling 25 fits\n",
      "\n",
      "Ridge : Ridge(alpha=0.1, normalize=True, random_state=14) / 1.0384640750496923\n",
      "\n"
     ]
    }
   ],
   "source": [
    "ridge = Ridge(normalize = True, random_state = random_state)\n",
    "\n",
    "ridge_param_grid = {'alpha':  [0.1, 0.2, 0.3, 0.4, 0.5]}\n",
    "gsRidge = GridSearchCV(estimator = ridge, param_grid = ridge_param_grid, cv = kfold, scoring = 'neg_mean_squared_error', verbose = 1)\n",
    "gsRidge.fit(data, np.ravel(target))\n",
    "ridge_estimator = gsRidge.best_estimator_\n",
    "ridge_score = np.sqrt(-gsRidge.best_score_)\n",
    "\n",
    "print(\"\\nRidge : {0} / {1}\\n\".format(ridge_estimator, ridge_score))"
   ]
  },
  {
   "cell_type": "code",
   "execution_count": 107,
   "metadata": {},
   "outputs": [
    {
     "name": "stdout",
     "output_type": "stream",
     "text": [
      "Fitting 5 folds for each of 4 candidates, totalling 20 fits\n",
      "\n",
      "Lasso : Lasso(alpha=0.001, normalize=True, random_state=14) / 0.9101896912254104\n",
      "\n"
     ]
    }
   ],
   "source": [
    "lasso = Lasso(normalize = True, random_state = random_state)\n",
    "\n",
    "lasso_param_grid = {'alpha':  [0.0001, 0.001, 0.01, 0.1]}\n",
    "gsLasso = GridSearchCV(estimator = lasso, param_grid = lasso_param_grid, cv = kfold, scoring = 'neg_mean_squared_error', verbose = 1)\n",
    "gsLasso.fit(data, np.ravel(target))\n",
    "lasso_estimator = gsLasso.best_estimator_\n",
    "lasso_score = np.sqrt(-gsLasso.best_score_)\n",
    "\n",
    "print(\"\\nLasso : {0} / {1}\\n\".format(lasso_estimator, lasso_score))"
   ]
  },
  {
   "cell_type": "code",
   "execution_count": 108,
   "metadata": {},
   "outputs": [
    {
     "name": "stdout",
     "output_type": "stream",
     "text": [
      "Fitting 5 folds for each of 4 candidates, totalling 20 fits\n",
      "\n",
      "ElasticNet : ElasticNet(alpha=0.0001, normalize=True, random_state=14) / 1.0016787946075407\n",
      "\n"
     ]
    }
   ],
   "source": [
    "en = ElasticNet(normalize = True, random_state = random_state)\n",
    "\n",
    "en_param_grid = {'alpha':  [0.0001, 0.001, 0.01, 0.1]}\n",
    "gsEN = GridSearchCV(estimator = en, param_grid = en_param_grid, cv = kfold, scoring = 'neg_mean_squared_error', verbose = 1)\n",
    "gsEN.fit(data, np.ravel(target))\n",
    "en_estimator = gsEN.best_estimator_\n",
    "en_score = np.sqrt(-gsEN.best_score_)\n",
    "\n",
    "print(\"\\nElasticNet : {0} / {1}\\n\".format(en_estimator, en_score))"
   ]
  },
  {
   "cell_type": "code",
   "execution_count": 109,
   "metadata": {},
   "outputs": [
    {
     "name": "stdout",
     "output_type": "stream",
     "text": [
      "Fitting 5 folds for each of 1 candidates, totalling 5 fits\n",
      "\n",
      "RandomForest : RandomForestRegressor(n_estimators=500, random_state=14) / 0.6701307115741314\n",
      "\n"
     ]
    }
   ],
   "source": [
    "rf = RandomForestRegressor(random_state = random_state)\n",
    "rf_param_grid = {'n_estimators' :[500]}\n",
    "gsRF = GridSearchCV(estimator = rf, param_grid = rf_param_grid, cv = kfold, scoring = 'neg_mean_squared_error', verbose = 1)\n",
    "gsRF.fit(data, np.ravel(target))\n",
    "rf_estimator = gsRF.best_estimator_\n",
    "rf_score = np.sqrt(-gsRF.best_score_)\n",
    "\n",
    "print(\"\\nRandomForest : {0} / {1}\\n\".format(rf_estimator, rf_score))"
   ]
  },
  {
   "cell_type": "code",
   "execution_count": 110,
   "metadata": {},
   "outputs": [
    {
     "name": "stdout",
     "output_type": "stream",
     "text": [
      "Fitting 5 folds for each of 1 candidates, totalling 5 fits\n",
      "\n",
      "GradientBoosting : GradientBoostingRegressor(n_estimators=500, random_state=14) / 0.6562968545746842\n",
      "\n"
     ]
    }
   ],
   "source": [
    "gb = GradientBoostingRegressor(random_state = random_state)\n",
    "\n",
    "gb_param_grid = {'n_estimators' : [500]}\n",
    "gsGB = GridSearchCV(estimator = gb, param_grid = gb_param_grid, cv = kfold, scoring = 'neg_mean_squared_error', verbose = 1)\n",
    "gsGB.fit(data, np.ravel(target))\n",
    "gb_estimator = gsGB.best_estimator_\n",
    "gb_score = np.sqrt(-gsGB.best_score_)\n",
    "\n",
    "print(\"\\nGradientBoosting : {0} / {1}\\n\".format(gb_estimator, gb_score))"
   ]
  },
  {
   "cell_type": "code",
   "execution_count": 111,
   "metadata": {},
   "outputs": [
    {
     "name": "stdout",
     "output_type": "stream",
     "text": [
      "Fitting 5 folds for each of 1 candidates, totalling 5 fits\n",
      "\n",
      "XGB : XGBRegressor(alpha=0.01, base_score=0.5, booster='gbtree', colsample_bylevel=1,\n",
      "             colsample_bynode=1, colsample_bytree=1, enable_categorical=False,\n",
      "             eval_metric='rmse', gamma=0.01, gpu_id=-1, importance_type=None,\n",
      "             interaction_constraints='', lambda=0.5, learning_rate=0.1,\n",
      "             max_delta_step=0, max_depth=3, min_child_weight=0.001, missing=nan,\n",
      "             monotone_constraints='()', n_estimators=500, n_jobs=12,\n",
      "             num_parallel_tree=1, predictor='auto', random_state=14,\n",
      "             reg_alpha=0.00999999978, reg_lambda=0.5, scale_pos_weight=1,\n",
      "             subsample=0.8, tree_method='exact', validate_parameters=1, ...) / 0.6840498703925689\n",
      "\n"
     ]
    }
   ],
   "source": [
    "xgb = xgb.XGBRegressor(random_state = random_state)\n",
    "\n",
    "xgb_param_grid = {'max_depth' : [3],\n",
    "                  'min_child_weight' : [0.001],\n",
    "                  'colsample_bytree' : [1],\n",
    "                  'subsample' : [0.8],\n",
    "                  'gamma' : [0.01],\n",
    "                  'lambda' : [0.5],\n",
    "                  'alpha' : [0.01],\n",
    "                  'learning_rate' : [0.1],\n",
    "                  'n_estimators' : [500],\n",
    "                  'eval_metric' : ['rmse']}\n",
    "gsXGB = GridSearchCV(estimator = xgb, param_grid = xgb_param_grid, cv = kfold, scoring = 'neg_mean_squared_error', verbose = 1)\n",
    "gsXGB.fit(data, np.ravel(target))\n",
    "xgb_estimator = gsXGB.best_estimator_\n",
    "xgb_score = np.sqrt(-gsXGB.best_score_)\n",
    "\n",
    "print(\"\\nXGB : {0} / {1}\\n\".format(xgb_estimator, xgb_score))"
   ]
  },
  {
   "cell_type": "code",
   "execution_count": 112,
   "metadata": {},
   "outputs": [
    {
     "name": "stdout",
     "output_type": "stream",
     "text": [
      "      Algorithm  h_cv_means  h_cv_std\n",
      "0         Ridge     1.03675   0.05972\n",
      "1         Lasso     0.89020   0.18973\n",
      "2    ElasticNet     0.99995   0.05890\n",
      "3  RandomForest     0.66989   0.01797\n",
      "4            Gb     0.65492   0.04252\n",
      "5           Xgb     0.68257   0.04490\n"
     ]
    },
    {
     "data": {
      "text/plain": [
       "Text(0.5, 0, 'RMSE')"
      ]
     },
     "execution_count": 112,
     "metadata": {},
     "output_type": "execute_result"
    },
    {
     "data": {
      "image/png": "[encoded data removed]",
      "text/plain": [
       "<Figure size 1200x800 with 1 Axes>"
      ]
     },
     "metadata": {
      "needs_background": "light"
     },
     "output_type": "display_data"
    }
   ],
   "source": [
    "h_regressifiers = []\n",
    "h_regressifiers.append(gsRidge.best_estimator_) \n",
    "h_regressifiers.append(gsLasso.best_estimator_) \n",
    "h_regressifiers.append(gsEN.best_estimator_)\n",
    "h_regressifiers.append(gsRF.best_estimator_) \n",
    "h_regressifiers.append(gsGB.best_estimator_) \n",
    "h_regressifiers.append(gsXGB.best_estimator_)\n",
    "\n",
    "h_cv_results = []\n",
    "for h_regressifier in h_regressifiers :\n",
    "    h_cv_results.append(np.sqrt(-cross_val_score(h_regressifier, data.values, np.ravel(target), scoring = 'neg_mean_squared_error', cv = kfold)))\n",
    "\n",
    "h_cv_means = []\n",
    "h_cv_std = []\n",
    "for h_cv_result in h_cv_results :\n",
    "    h_cv_means.append(h_cv_result.mean())\n",
    "    h_cv_std.append(h_cv_result.std())\n",
    "    \n",
    "cv_res = pd.DataFrame({'Algorithm' : ['Ridge', 'Lasso', 'ElasticNet', 'RandomForest', 'Gb', 'Xgb'],\n",
    "                        'h_cv_means' : h_cv_means,\n",
    "                        'h_cv_std' : h_cv_std})\n",
    "\n",
    "print(cv_res)\n",
    "g = sns.barplot('h_cv_means', 'Algorithm', data = cv_res, palette = 'Set2', orient = \"h\",**{'xerr':h_cv_std})\n",
    "plt.xlabel('RMSE')"
   ]
  },
  {
   "cell_type": "code",
   "execution_count": 136,
   "metadata": {},
   "outputs": [],
   "source": [
    "def clf(x, y):\n",
    "    # random forest\n",
    "    rf = rf_estimator\n",
    "    rf.fit(x, y)\n",
    "    result_rf = permutation_importance(rf, x,y , n_repeats=10, random_state = 14)\n",
    "    sorted_idx_rf = result_rf.importances_mean.argsort()\n",
    "    importances_rf = pd.DataFrame(result_rf.importances_mean[sorted_idx_rf], index=x.columns[sorted_idx_rf], columns = ['feature_importance']).sort_values(by = 'feature_importance', ascending=False)\n",
    "    \n",
    "    # gradient boosting\n",
    "    gb = gb_estimator\n",
    "    gb.fit(x, y)\n",
    "    result_gb = permutation_importance(gb, x,y , n_repeats=10, random_state = 14)\n",
    "    sorted_idx_gb = result_gb.importances_mean.argsort()\n",
    "    importances_gb = pd.DataFrame(result_gb.importances_mean[sorted_idx_gb], index=x.columns[sorted_idx_gb], columns = ['feature_importance']).sort_values(by = 'feature_importance', ascending=False)\n",
    "    \n",
    "    # xg boosting\n",
    "    xgb = xgb_estimator\n",
    "    xgb.fit(x, y)\n",
    "    result_xgb = permutation_importance(xgb, x,y , n_repeats=10, random_state = 14)\n",
    "    sorted_idx_xgb = result_xgb.importances_mean.argsort()\n",
    "    importances_xgb = pd.DataFrame(result_xgb.importances_mean[sorted_idx_xgb], index=x.columns[sorted_idx_xgb], columns = ['feature_importance']).sort_values(by = 'feature_importance', ascending=False)\n",
    "    \n",
    "    return importances_rf, importances_gb, importances_xgb"
   ]
  },
  {
   "cell_type": "code",
   "execution_count": 137,
   "metadata": {},
   "outputs": [],
   "source": [
    "importances_rf, importances_gb, importances_xgb = clf(data, target)\n",
    "\n",
    "importances_rf.to_csv('importances_rf.csv', encoding = 'utf-8-sig')\n",
    "importances_gb.to_csv('importances_gb.csv', encoding = 'utf-8-sig')\n",
    "importances_xgb.to_csv('importances_xgb.csv', encoding = 'utf-8-sig')"
   ]
  },
  {
   "cell_type": "code",
   "execution_count": 138,
   "metadata": {},
   "outputs": [
    {
     "data": {
      "text/html": [
       "<div>\n",
       "<style scoped>\n",
       "    .dataframe tbody tr th:only-of-type {\n",
       "        vertical-align: middle;\n",
       "    }\n",
       "\n",
       "    .dataframe tbody tr th {\n",
       "        vertical-align: top;\n",
       "    }\n",
       "\n",
       "    .dataframe thead th {\n",
       "        text-align: right;\n",
       "    }\n",
       "</style>\n",
       "<table border=\"1\" class=\"dataframe\">\n",
       "  <thead>\n",
       "    <tr style=\"text-align: right;\">\n",
       "      <th></th>\n",
       "      <th>feature_importance</th>\n",
       "    </tr>\n",
       "  </thead>\n",
       "  <tbody>\n",
       "    <tr>\n",
       "      <th>review_cnt</th>\n",
       "      <td>0.75580</td>\n",
       "    </tr>\n",
       "    <tr>\n",
       "      <th>instructor_유용한IT학습</th>\n",
       "      <td>0.58681</td>\n",
       "    </tr>\n",
       "    <tr>\n",
       "      <th>sale_price</th>\n",
       "      <td>0.06284</td>\n",
       "    </tr>\n",
       "    <tr>\n",
       "      <th>price</th>\n",
       "      <td>0.05547</td>\n",
       "    </tr>\n",
       "    <tr>\n",
       "      <th>main_category_크리에이티브</th>\n",
       "      <td>0.03244</td>\n",
       "    </tr>\n",
       "    <tr>\n",
       "      <th>course_time_min</th>\n",
       "      <td>0.02392</td>\n",
       "    </tr>\n",
       "    <tr>\n",
       "      <th>limit_time</th>\n",
       "      <td>0.01617</td>\n",
       "    </tr>\n",
       "    <tr>\n",
       "      <th>course_section</th>\n",
       "      <td>0.01099</td>\n",
       "    </tr>\n",
       "    <tr>\n",
       "      <th>discount_rate</th>\n",
       "      <td>0.00598</td>\n",
       "    </tr>\n",
       "    <tr>\n",
       "      <th>review_score</th>\n",
       "      <td>0.00554</td>\n",
       "    </tr>\n",
       "  </tbody>\n",
       "</table>\n",
       "</div>"
      ],
      "text/plain": [
       "                      feature_importance\n",
       "review_cnt                       0.75580\n",
       "instructor_유용한IT학습               0.58681\n",
       "sale_price                       0.06284\n",
       "price                            0.05547\n",
       "main_category_크리에이티브             0.03244\n",
       "course_time_min                  0.02392\n",
       "limit_time                       0.01617\n",
       "course_section                   0.01099\n",
       "discount_rate                    0.00598\n",
       "review_score                     0.00554"
      ]
     },
     "execution_count": 138,
     "metadata": {},
     "output_type": "execute_result"
    }
   ],
   "source": [
    "importances_rf[:10]"
   ]
  },
  {
   "cell_type": "code",
   "execution_count": 139,
   "metadata": {},
   "outputs": [
    {
     "data": {
      "text/html": [
       "<div>\n",
       "<style scoped>\n",
       "    .dataframe tbody tr th:only-of-type {\n",
       "        vertical-align: middle;\n",
       "    }\n",
       "\n",
       "    .dataframe tbody tr th {\n",
       "        vertical-align: top;\n",
       "    }\n",
       "\n",
       "    .dataframe thead th {\n",
       "        text-align: right;\n",
       "    }\n",
       "</style>\n",
       "<table border=\"1\" class=\"dataframe\">\n",
       "  <thead>\n",
       "    <tr style=\"text-align: right;\">\n",
       "      <th></th>\n",
       "      <th>feature_importance</th>\n",
       "    </tr>\n",
       "  </thead>\n",
       "  <tbody>\n",
       "    <tr>\n",
       "      <th>review_cnt</th>\n",
       "      <td>0.65460</td>\n",
       "    </tr>\n",
       "    <tr>\n",
       "      <th>instructor_유용한IT학습</th>\n",
       "      <td>0.48447</td>\n",
       "    </tr>\n",
       "    <tr>\n",
       "      <th>price</th>\n",
       "      <td>0.05701</td>\n",
       "    </tr>\n",
       "    <tr>\n",
       "      <th>sale_price</th>\n",
       "      <td>0.03743</td>\n",
       "    </tr>\n",
       "    <tr>\n",
       "      <th>main_category_크리에이티브</th>\n",
       "      <td>0.01536</td>\n",
       "    </tr>\n",
       "    <tr>\n",
       "      <th>course_time_min</th>\n",
       "      <td>0.01451</td>\n",
       "    </tr>\n",
       "    <tr>\n",
       "      <th>instructor_인프런</th>\n",
       "      <td>0.01064</td>\n",
       "    </tr>\n",
       "    <tr>\n",
       "      <th>discount_rate</th>\n",
       "      <td>0.00716</td>\n",
       "    </tr>\n",
       "    <tr>\n",
       "      <th>instructor_플모</th>\n",
       "      <td>0.00520</td>\n",
       "    </tr>\n",
       "    <tr>\n",
       "      <th>course_section</th>\n",
       "      <td>0.00408</td>\n",
       "    </tr>\n",
       "  </tbody>\n",
       "</table>\n",
       "</div>"
      ],
      "text/plain": [
       "                      feature_importance\n",
       "review_cnt                       0.65460\n",
       "instructor_유용한IT학습               0.48447\n",
       "price                            0.05701\n",
       "sale_price                       0.03743\n",
       "main_category_크리에이티브             0.01536\n",
       "course_time_min                  0.01451\n",
       "instructor_인프런                   0.01064\n",
       "discount_rate                    0.00716\n",
       "instructor_플모                    0.00520\n",
       "course_section                   0.00408"
      ]
     },
     "execution_count": 139,
     "metadata": {},
     "output_type": "execute_result"
    }
   ],
   "source": [
    "importances_gb[:10]"
   ]
  },
  {
   "cell_type": "code",
   "execution_count": 140,
   "metadata": {},
   "outputs": [
    {
     "data": {
      "text/html": [
       "<div>\n",
       "<style scoped>\n",
       "    .dataframe tbody tr th:only-of-type {\n",
       "        vertical-align: middle;\n",
       "    }\n",
       "\n",
       "    .dataframe tbody tr th {\n",
       "        vertical-align: top;\n",
       "    }\n",
       "\n",
       "    .dataframe thead th {\n",
       "        text-align: right;\n",
       "    }\n",
       "</style>\n",
       "<table border=\"1\" class=\"dataframe\">\n",
       "  <thead>\n",
       "    <tr style=\"text-align: right;\">\n",
       "      <th></th>\n",
       "      <th>feature_importance</th>\n",
       "    </tr>\n",
       "  </thead>\n",
       "  <tbody>\n",
       "    <tr>\n",
       "      <th>review_cnt</th>\n",
       "      <td>0.64504</td>\n",
       "    </tr>\n",
       "    <tr>\n",
       "      <th>instructor_유용한IT학습</th>\n",
       "      <td>0.49658</td>\n",
       "    </tr>\n",
       "    <tr>\n",
       "      <th>price</th>\n",
       "      <td>0.13950</td>\n",
       "    </tr>\n",
       "    <tr>\n",
       "      <th>course_time_min</th>\n",
       "      <td>0.01786</td>\n",
       "    </tr>\n",
       "    <tr>\n",
       "      <th>main_category_크리에이티브</th>\n",
       "      <td>0.01358</td>\n",
       "    </tr>\n",
       "    <tr>\n",
       "      <th>instructor_인프런</th>\n",
       "      <td>0.01026</td>\n",
       "    </tr>\n",
       "    <tr>\n",
       "      <th>discount_rate</th>\n",
       "      <td>0.00947</td>\n",
       "    </tr>\n",
       "    <tr>\n",
       "      <th>course_section</th>\n",
       "      <td>0.00628</td>\n",
       "    </tr>\n",
       "    <tr>\n",
       "      <th>sale_price</th>\n",
       "      <td>0.00519</td>\n",
       "    </tr>\n",
       "    <tr>\n",
       "      <th>instructor_플모</th>\n",
       "      <td>0.00493</td>\n",
       "    </tr>\n",
       "  </tbody>\n",
       "</table>\n",
       "</div>"
      ],
      "text/plain": [
       "                      feature_importance\n",
       "review_cnt                       0.64504\n",
       "instructor_유용한IT학습               0.49658\n",
       "price                            0.13950\n",
       "course_time_min                  0.01786\n",
       "main_category_크리에이티브             0.01358\n",
       "instructor_인프런                   0.01026\n",
       "discount_rate                    0.00947\n",
       "course_section                   0.00628\n",
       "sale_price                       0.00519\n",
       "instructor_플모                    0.00493"
      ]
     },
     "execution_count": 140,
     "metadata": {},
     "output_type": "execute_result"
    }
   ],
   "source": [
    "importances_xgb[:10]"
   ]
  },
  {
   "cell_type": "code",
   "execution_count": 141,
   "metadata": {},
   "outputs": [],
   "source": [
    "X_train, X_test, y_train, y_test = train_test_split(data, target, test_size = 0.2, shuffle = True, random_state = 14)"
   ]
  },
  {
   "cell_type": "code",
   "execution_count": 142,
   "metadata": {},
   "outputs": [],
   "source": [
    "votingR = VotingRegressor(estimators = [('rf', rf_estimator), ('gb', gb_estimator), \n",
    "('xgb', xgb_estimator)])\n",
    "\n",
    "votingR.fit(X_train.values, np.ravel(y_train))\n",
    "votingR_train_pred = votingR.predict(X_train.values) \n",
    "votingR_pred = votingR.predict(X_test.values)"
   ]
  },
  {
   "cell_type": "code",
   "execution_count": 143,
   "metadata": {},
   "outputs": [],
   "source": [
    "class StackingAveragedModels (BaseEstimator, RegressorMixin, TransformerMixin) :\n",
    "    def __init__(self, base_models, meta_model) :\n",
    "        self.base_models = base_models\n",
    "        self.meta_model = meta_model\n",
    "    \n",
    "    def fit (self, X, y) :\n",
    "        self.base_models_ = [list() for i in self.base_models]\n",
    "        self.meta_model_ = clone(self.meta_model)\n",
    "        kfold = KFold(n_splits = 10,  shuffle = True, random_state = random_state)\n",
    "        \n",
    "        train_fold_predict = np.zeros((X.shape[0],len(self.base_models)))\n",
    "        \n",
    "        for i, model in enumerate (self.base_models) :\n",
    "            for train_index, valid_index in kfold.split(X, y):\n",
    "                instance = clone(model)\n",
    "                self.base_models_[i].append(instance)\n",
    "                instance.fit(X[train_index], y[train_index])\n",
    "                test_predict = instance.predict(X[valid_index])\n",
    "                train_fold_predict[valid_index, i] = test_predict\n",
    "        \n",
    "        self.meta_model_.fit(train_fold_predict, y)\n",
    "        return self\n",
    "    \n",
    "    def predict(self, X):\n",
    "        meta_features = np.column_stack([\n",
    "            np.column_stack([model.predict(X) for model in base_models]).mean(axis=1)\n",
    "            for base_models in self.base_models_ ])\n",
    "        return self.meta_model_.predict(meta_features)"
   ]
  },
  {
   "cell_type": "code",
   "execution_count": 144,
   "metadata": {},
   "outputs": [],
   "source": [
    "stacked_model = StackingAveragedModels(base_models = (rf_estimator, gb_estimator, xgb_estimator),\n",
    "                                                 meta_model = lasso_estimator)\n",
    "\n",
    "stacked_model.fit(X_train.values, np.ravel(y_train))\n",
    "stacked_train_pred = stacked_model.predict(X_train.values) \n",
    "stacked_pred = stacked_model.predict(X_test.values)"
   ]
  },
  {
   "cell_type": "code",
   "execution_count": 145,
   "metadata": {},
   "outputs": [],
   "source": [
    "result = pd.DataFrame()\n",
    "result['value'] = np.ravel(y_test)\n",
    "result['v_pred'] = votingR_pred\n",
    "result['s_pred'] = stacked_pred"
   ]
  },
  {
   "cell_type": "code",
   "execution_count": 146,
   "metadata": {},
   "outputs": [],
   "source": [
    "result['value'] = inv_boxcox1p(result['value'], 0.001)\n",
    "result['v_pred'] = inv_boxcox1p(result['v_pred'], 0.001)\n",
    "result['s_pred'] = inv_boxcox1p(result['s_pred'], 0.001)\n",
    "\n",
    "result = result.round(0)\n",
    "result = result.astype(int)\n",
    "result = result.sort_values('value')"
   ]
  },
  {
   "cell_type": "code",
   "execution_count": 147,
   "metadata": {},
   "outputs": [
    {
     "name": "stdout",
     "output_type": "stream",
     "text": [
      "0.29619970089678005\n",
      "0.3097102236168061\n",
      "0.5591565429043099\n",
      "0.5448296826646952\n"
     ]
    }
   ],
   "source": [
    "print(np.sqrt(mean_squared_error(y_train, votingR_train_pred)))\n",
    "print(np.sqrt(mean_squared_error(y_train, stacked_train_pred)))\n",
    "print(np.sqrt(mean_squared_error(y_test, votingR_pred)))\n",
    "print(np.sqrt(mean_squared_error(y_test, stacked_pred)))"
   ]
  },
  {
   "cell_type": "code",
   "execution_count": 148,
   "metadata": {},
   "outputs": [],
   "source": [
    "result.to_csv('student_pred.csv')"
   ]
  },
  {
   "cell_type": "code",
   "execution_count": 149,
   "metadata": {},
   "outputs": [
    {
     "data": {
      "text/plain": [
       "<matplotlib.legend.Legend at 0x2348311bee0>"
      ]
     },
     "execution_count": 149,
     "metadata": {},
     "output_type": "execute_result"
    },
    {
     "data": {
      "image/png": "[encoded data removed]",
      "text/plain": [
       "<Figure size 1200x800 with 1 Axes>"
      ]
     },
     "metadata": {
      "needs_background": "light"
     },
     "output_type": "display_data"
    }
   ],
   "source": [
    "sns.kdeplot(result['value'], shade=False, label = 'real_data')\n",
    "sns.kdeplot(result['v_pred'], shade=False, label = 'voting_pred')\n",
    "sns.kdeplot(result['s_pred'], shade=False, label = 'stacking_pred')\n",
    "plt.legend()"
   ]
  },
  {
   "cell_type": "code",
   "execution_count": 150,
   "metadata": {},
   "outputs": [],
   "source": [
    "result['v_error'] = (result['value'] - result['v_pred']) / result['value'] *100\n",
    "result['s_error'] = (result['value'] - result['s_pred']) / result['value'] *100"
   ]
  },
  {
   "cell_type": "code",
   "execution_count": 151,
   "metadata": {},
   "outputs": [
    {
     "data": {
      "text/plain": [
       "Text(0, 0.5, 'error rate')"
      ]
     },
     "execution_count": 151,
     "metadata": {},
     "output_type": "execute_result"
    },
    {
     "data": {
      "image/png": "[encoded data removed]",
      "text/plain": [
       "<Figure size 1200x800 with 1 Axes>"
      ]
     },
     "metadata": {
      "needs_background": "light"
     },
     "output_type": "display_data"
    }
   ],
   "source": [
    "sns.lineplot(x = 'value', y = 'v_error', data = result, linewidth=1, alpha  = 0.5, label = 'voting_error_rate')\n",
    "sns.lineplot(x = 'value', y = 's_error', data = result, linewidth=1, alpha  = 0.5, label = 'stacking_error_rate')\n",
    "plt.hlines(0,0,100000, color='r', linewidth=1, alpha  = 0.5)\n",
    "\n",
    "plt.xlabel(\"real data ('student_cnt')\")\n",
    "plt.ylabel('error rate')"
   ]
  }
 ],
 "metadata": {
  "interpreter": {
   "hash": "73407dee87cc73a13fe6a424f5d316f883ddf267c66cfaad22110334c7428349"
  },
  "kernelspec": {
   "display_name": "Python 3.8.12 ('dev_project')",
   "language": "python",
   "name": "python3"
  },
  "language_info": {
   "codemirror_mode": {
    "name": "ipython",
    "version": 3
   },
   "file_extension": ".py",
   "mimetype": "text/x-python",
   "name": "python",
   "nbconvert_exporter": "python",
   "pygments_lexer": "ipython3",
   "version": "3.8.12"
  },
  "orig_nbformat": 4
 },
 "nbformat": 4,
 "nbformat_minor": 2
}
